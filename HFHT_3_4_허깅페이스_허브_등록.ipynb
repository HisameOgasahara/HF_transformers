{
  "nbformat": 4,
  "nbformat_minor": 0,
  "metadata": {
    "colab": {
      "provenance": [],
      "authorship_tag": "ABX9TyPrqF5qGpJS6GxPQafOZJ6K",
      "include_colab_link": true
    },
    "kernelspec": {
      "name": "python3",
      "display_name": "Python 3"
    },
    "language_info": {
      "name": "python"
    }
  },
  "cells": [
    {
      "cell_type": "markdown",
      "metadata": {
        "id": "view-in-github",
        "colab_type": "text"
      },
      "source": [
        "<a href=\"https://colab.research.google.com/github/HisameOgasahara/HF_transformers/blob/main/HFHT_3_4_%ED%97%88%EA%B9%85%ED%8E%98%EC%9D%B4%EC%8A%A4_%ED%97%88%EB%B8%8C_%EB%93%B1%EB%A1%9D.ipynb\" target=\"_parent\"><img src=\"https://colab.research.google.com/assets/colab-badge.svg\" alt=\"Open In Colab\"/></a>"
      ]
    },
    {
      "cell_type": "code",
      "execution_count": null,
      "metadata": {
        "id": "efDGa2MI_oKY"
      },
      "outputs": [],
      "source": [
        "# Huggingface Hub 로그인\n",
        "\n",
        "# Hugging Face Hub 라이브러리 설치 (Colab 환경에서 처음 실행 시 필요)\n",
        "!pip install huggingface_hub\n",
        "\n",
        "from huggingface_hub import login\n",
        "\n",
        "token_file_path = \"/content/drive/MyDrive/SD/hf_token/hf_token.txt\"\n",
        "\n",
        "# 토큰 파일에서 토큰 읽기\n",
        "with open(token_file_path, 'r') as file:\n",
        "    write_token = file.read().strip()\n",
        "\n",
        "# Hugging Face Hub 로그인 실행\n",
        "try:\n",
        "    login(token=write_token)\n",
        "    print(\"Hugging Face Hub 로그인 성공!\")\n",
        "except Exception as e:\n",
        "    print(f\"Hugging Face Hub 로그인 실패: {e}\")\n",
        "    print(\"토큰 파일 경로, 토큰 값, Hugging Face Hub 계정 정보를 다시 확인해주세요.\")"
      ]
    },
    {
      "cell_type": "code",
      "source": [
        "from google.colab import drive\n",
        "drive.mount(\"/content/drive\")"
      ],
      "metadata": {
        "colab": {
          "base_uri": "https://localhost:8080/"
        },
        "id": "hgjo9NCKJ5MX",
        "outputId": "ace1deeb-9971-4982-ea98-02e5139db83b"
      },
      "execution_count": null,
      "outputs": [
        {
          "output_type": "stream",
          "name": "stdout",
          "text": [
            "Mounted at /content/drive\n"
          ]
        }
      ]
    },
    {
      "cell_type": "code",
      "source": [
        "!pip install transformers==4.41.2"
      ],
      "metadata": {
        "colab": {
          "base_uri": "https://localhost:8080/"
        },
        "id": "ujJecbwAJ6vG",
        "outputId": "f10e038e-1416-4032-adb4-b5dded05fe35"
      },
      "execution_count": null,
      "outputs": [
        {
          "output_type": "stream",
          "name": "stdout",
          "text": [
            "Collecting transformers==4.41.2\n",
            "  Downloading transformers-4.41.2-py3-none-any.whl.metadata (43 kB)\n",
            "\u001b[?25l     \u001b[90m━━━━━━━━━━━━━━━━━━━━━━━━━━━━━━━━━━━━━━━━\u001b[0m \u001b[32m0.0/43.8 kB\u001b[0m \u001b[31m?\u001b[0m eta \u001b[36m-:--:--\u001b[0m\r\u001b[2K     \u001b[90m━━━━━━━━━━━━━━━━━━━━━━━━━━━━━━━━━━━━━━━━\u001b[0m \u001b[32m43.8/43.8 kB\u001b[0m \u001b[31m1.9 MB/s\u001b[0m eta \u001b[36m0:00:00\u001b[0m\n",
            "\u001b[?25hRequirement already satisfied: filelock in /usr/local/lib/python3.11/dist-packages (from transformers==4.41.2) (3.17.0)\n",
            "Requirement already satisfied: huggingface-hub<1.0,>=0.23.0 in /usr/local/lib/python3.11/dist-packages (from transformers==4.41.2) (0.28.1)\n",
            "Requirement already satisfied: numpy>=1.17 in /usr/local/lib/python3.11/dist-packages (from transformers==4.41.2) (1.26.4)\n",
            "Requirement already satisfied: packaging>=20.0 in /usr/local/lib/python3.11/dist-packages (from transformers==4.41.2) (24.2)\n",
            "Requirement already satisfied: pyyaml>=5.1 in /usr/local/lib/python3.11/dist-packages (from transformers==4.41.2) (6.0.2)\n",
            "Requirement already satisfied: regex!=2019.12.17 in /usr/local/lib/python3.11/dist-packages (from transformers==4.41.2) (2024.11.6)\n",
            "Requirement already satisfied: requests in /usr/local/lib/python3.11/dist-packages (from transformers==4.41.2) (2.32.3)\n",
            "Collecting tokenizers<0.20,>=0.19 (from transformers==4.41.2)\n",
            "  Downloading tokenizers-0.19.1-cp311-cp311-manylinux_2_17_x86_64.manylinux2014_x86_64.whl.metadata (6.7 kB)\n",
            "Requirement already satisfied: safetensors>=0.4.1 in /usr/local/lib/python3.11/dist-packages (from transformers==4.41.2) (0.5.2)\n",
            "Requirement already satisfied: tqdm>=4.27 in /usr/local/lib/python3.11/dist-packages (from transformers==4.41.2) (4.67.1)\n",
            "Requirement already satisfied: fsspec>=2023.5.0 in /usr/local/lib/python3.11/dist-packages (from huggingface-hub<1.0,>=0.23.0->transformers==4.41.2) (2024.10.0)\n",
            "Requirement already satisfied: typing-extensions>=3.7.4.3 in /usr/local/lib/python3.11/dist-packages (from huggingface-hub<1.0,>=0.23.0->transformers==4.41.2) (4.12.2)\n",
            "Requirement already satisfied: charset-normalizer<4,>=2 in /usr/local/lib/python3.11/dist-packages (from requests->transformers==4.41.2) (3.4.1)\n",
            "Requirement already satisfied: idna<4,>=2.5 in /usr/local/lib/python3.11/dist-packages (from requests->transformers==4.41.2) (3.10)\n",
            "Requirement already satisfied: urllib3<3,>=1.21.1 in /usr/local/lib/python3.11/dist-packages (from requests->transformers==4.41.2) (2.3.0)\n",
            "Requirement already satisfied: certifi>=2017.4.17 in /usr/local/lib/python3.11/dist-packages (from requests->transformers==4.41.2) (2025.1.31)\n",
            "Downloading transformers-4.41.2-py3-none-any.whl (9.1 MB)\n",
            "\u001b[2K   \u001b[90m━━━━━━━━━━━━━━━━━━━━━━━━━━━━━━━━━━━━━━━━\u001b[0m \u001b[32m9.1/9.1 MB\u001b[0m \u001b[31m45.6 MB/s\u001b[0m eta \u001b[36m0:00:00\u001b[0m\n",
            "\u001b[?25hDownloading tokenizers-0.19.1-cp311-cp311-manylinux_2_17_x86_64.manylinux2014_x86_64.whl (3.6 MB)\n",
            "\u001b[2K   \u001b[90m━━━━━━━━━━━━━━━━━━━━━━━━━━━━━━━━━━━━━━━━\u001b[0m \u001b[32m3.6/3.6 MB\u001b[0m \u001b[31m47.4 MB/s\u001b[0m eta \u001b[36m0:00:00\u001b[0m\n",
            "\u001b[?25hInstalling collected packages: tokenizers, transformers\n",
            "  Attempting uninstall: tokenizers\n",
            "    Found existing installation: tokenizers 0.21.0\n",
            "    Uninstalling tokenizers-0.21.0:\n",
            "      Successfully uninstalled tokenizers-0.21.0\n",
            "  Attempting uninstall: transformers\n",
            "    Found existing installation: transformers 4.48.3\n",
            "    Uninstalling transformers-4.48.3:\n",
            "      Successfully uninstalled transformers-4.48.3\n",
            "Successfully installed tokenizers-0.19.1 transformers-4.41.2\n"
          ]
        }
      ]
    },
    {
      "cell_type": "markdown",
      "source": [
        "# 3.4.1 push_to_hub()"
      ],
      "metadata": {
        "id": "r5rA7ml_KHmm"
      }
    },
    {
      "cell_type": "code",
      "source": [
        "from transformers import AutoTokenizer, AutoModelForSequenceClassification\n",
        "\n",
        "model_name = \"/content/drive/MyDrive/HFbookPractice/trained_model\"\n",
        "tokenizer = AutoTokenizer.from_pretrained(model_name)\n",
        "model = AutoModelForSequenceClassification.from_pretrained(model_name)\n",
        "\n",
        "REPO_NAME = \"HisameOgasahara/my-bert-fine-tuned\"\n",
        "AUTH_TOKEN = \"hf_sN...\""
      ],
      "metadata": {
        "id": "yHkxf-LUJ9TW"
      },
      "execution_count": null,
      "outputs": []
    },
    {
      "cell_type": "code",
      "source": [
        "model.push_to_hub(\n",
        "    REPO_NAME,\n",
        "    use_temp_dir=True,\n",
        "    use_auth_token=AUTH_TOKEN\n",
        ")\n",
        "tokenizer.push_to_hub(\n",
        "    REPO_NAME,\n",
        "    use_temp_dir=True,\n",
        "    use_auth_token=AUTH_TOKEN\n",
        ")"
      ],
      "metadata": {
        "id": "FjmDZeraKA9O"
      },
      "execution_count": null,
      "outputs": []
    },
    {
      "cell_type": "markdown",
      "source": [
        "### 허브 등록 모델 불러오기"
      ],
      "metadata": {
        "id": "Yq39N-TaKLVW"
      }
    },
    {
      "cell_type": "code",
      "source": [
        "from transformers import AutoTokenizer, AutoModelForSequenceClassification\n",
        "\n",
        "model_name = \"<사용자명>/my-bert-fine-tuned\"\n",
        "tokenizer = AutoTokenizer.from_pretrained(model_name)\n",
        "model = AutoModelForSequenceClassification.from_pretrained(model_name)\n",
        "\n",
        "print(tokenizer)\n",
        "print(model)"
      ],
      "metadata": {
        "id": "8b-7DXEnKD4u"
      },
      "execution_count": null,
      "outputs": []
    },
    {
      "cell_type": "markdown",
      "source": [
        "# 3.4.2 CLI"
      ],
      "metadata": {
        "id": "OoZHNQyLKN0u"
      }
    },
    {
      "cell_type": "code",
      "source": [
        "from transformers import AutoTokenizer, AutoModelForSequenceClassification\n",
        "\n",
        "model_name = \"/content/drive/MyDrive/trained_model\"\n",
        "tokenizer = AutoTokenizer.from_pretrained(model_name)\n",
        "model = AutoModelForSequenceClassification.from_pretrained(model_name)"
      ],
      "metadata": {
        "id": "mKiEiSIDKKou"
      },
      "execution_count": null,
      "outputs": []
    },
    {
      "cell_type": "code",
      "source": [
        "!git lfs install\n",
        "!git config --global user.email {\"<email>\"}\n",
        "!git config --global user.name {\"<계정명>\"}\n",
        "!git config --list"
      ],
      "metadata": {
        "id": "Pv_2E4R7KRyP"
      },
      "execution_count": null,
      "outputs": []
    },
    {
      "cell_type": "code",
      "source": [
        "!huggingface-cli login"
      ],
      "metadata": {
        "id": "kdwe4TB9KTN2"
      },
      "execution_count": null,
      "outputs": []
    },
    {
      "cell_type": "code",
      "source": [
        "!huggingface-cli repo create {\"<사용자명>/my-bert-fine-tuned2\".split(\"/\")[1]}"
      ],
      "metadata": {
        "id": "udzAcIA7KU6u"
      },
      "execution_count": null,
      "outputs": []
    },
    {
      "cell_type": "code",
      "source": [
        "!git clone https://huggingface.co/{\"<사용자명>/my-bert-fine-tuned2\"}"
      ],
      "metadata": {
        "id": "kwdo3X0TKWX-"
      },
      "execution_count": null,
      "outputs": []
    },
    {
      "cell_type": "code",
      "source": [
        "import os\n",
        "\n",
        "!cp -r /content/drive/MyDrive/trained_model/* /content/{\"<사용자명>/my-bert-fine-tuned2\".split('/')[1]}\n",
        "os.chdir('/content/my-bert-fine-tuned2')\n",
        "\n",
        "!git add *\n",
        "!chmod +x .git/hooks/post-commit\n",
        "!chmod +x .git/hooks/pre-push\n",
        "!git commit -m \"Initial commit\"\n",
        "!git push https://user:{\"<토큰값>\"}@huggingface.co/{\"<사용자명>/my-bert-fine-tuned2\"}"
      ],
      "metadata": {
        "id": "sAzzAqABKX7-"
      },
      "execution_count": null,
      "outputs": []
    },
    {
      "cell_type": "markdown",
      "source": [
        "### 허브 등록 모델 불러오기"
      ],
      "metadata": {
        "id": "olmB-nfOKaF-"
      }
    },
    {
      "cell_type": "code",
      "source": [
        "model_name = \"<사용자명>/my-bert-fine-tuned2\"\n",
        "tokenizer = AutoTokenizer.from_pretrained(model_name)\n",
        "model = AutoModelForSequenceClassification.from_pretrained(model_name)"
      ],
      "metadata": {
        "id": "kksxKdvfKbye"
      },
      "execution_count": null,
      "outputs": []
    },
    {
      "cell_type": "markdown",
      "source": [
        "# 3.4.3 huggingface-hub"
      ],
      "metadata": {
        "id": "X4k0EzTqKeJ2"
      }
    },
    {
      "cell_type": "code",
      "source": [
        "!pip list | grep huggingface-hub"
      ],
      "metadata": {
        "id": "kkdukupDKfmG"
      },
      "execution_count": null,
      "outputs": []
    },
    {
      "cell_type": "code",
      "source": [
        "from transformers import AutoTokenizer, AutoModelForSequenceClassification\n",
        "\n",
        "model_name = \"/content/drive/MyDrive/trained_model\"\n",
        "tokenizer = AutoTokenizer.from_pretrained(model_name)\n",
        "model = AutoModelForSequenceClassification.from_pretrained(model_name)"
      ],
      "metadata": {
        "id": "vgMKZeRnKhLO"
      },
      "execution_count": null,
      "outputs": []
    },
    {
      "cell_type": "code",
      "source": [
        "from huggingface_hub import notebook_login\n",
        "\n",
        "notebook_login()"
      ],
      "metadata": {
        "id": "nRd40FOSKiiO"
      },
      "execution_count": null,
      "outputs": []
    },
    {
      "cell_type": "code",
      "source": [
        "from huggingface_hub import create_repo, delete_repo\n",
        "\n",
        "create_repo(\"<사용자명>/my-bert-fine-tuned3\")"
      ],
      "metadata": {
        "id": "WMqia8q_KkkG"
      },
      "execution_count": null,
      "outputs": []
    },
    {
      "cell_type": "code",
      "source": [
        "delete_repo(\"<사용자명>/my-bert-fine-tuned3\")"
      ],
      "metadata": {
        "id": "xGmdS08jKl8G"
      },
      "execution_count": null,
      "outputs": []
    },
    {
      "cell_type": "code",
      "source": [
        "from huggingface_hub import Repository\n",
        "\n",
        "repo = Repository(\"<사용자명>/my-bert-fine-tuned-psh3\".split(\"/\")[1], clone_from=\"<사용자명>/my-bert-fine-tuned3\")\n",
        "!cp -r /content/drive/MyDrive/trained_model/ /content/{\"<사용자명>/my-bert-fine-tuned3\".split(\"/\")[1]}"
      ],
      "metadata": {
        "id": "0oa2eJv-KneG"
      },
      "execution_count": null,
      "outputs": []
    },
    {
      "cell_type": "code",
      "source": [
        "repo.git_add()\n",
        "repo.git_commit(\"Initial commit\")\n",
        "repo.git_push()"
      ],
      "metadata": {
        "id": "HvKx-7YqKo2u"
      },
      "execution_count": null,
      "outputs": []
    },
    {
      "cell_type": "code",
      "source": [
        "from huggingface_hub import upload_file, delete_file\n",
        "\n",
        "upload_file(\n",
        "    path_or_fileobj=f\"/content/{'<사용자명>/my-bert-fine-tuned3'.split('/')[1]}/config.json\",\n",
        "    path_in_repo=\"config.json\",\n",
        "    repo_id=\"<사용자명>/my-bert-fine-tuned3\",\n",
        ")"
      ],
      "metadata": {
        "id": "iaBJlPlVKqh2"
      },
      "execution_count": null,
      "outputs": []
    },
    {
      "cell_type": "code",
      "source": [
        "delete_file(\n",
        "    path_in_repo=\"config.json\",\n",
        "    repo_id=\"<사용자명>/my-bert-fine-tuned3\",\n",
        ")"
      ],
      "metadata": {
        "id": "v_5ZQQ-gKsdG"
      },
      "execution_count": null,
      "outputs": []
    },
    {
      "cell_type": "markdown",
      "source": [
        "### 허브 등록 모델 불러오기"
      ],
      "metadata": {
        "id": "x2dZbYcAKulm"
      }
    },
    {
      "cell_type": "code",
      "source": [
        "model_name = \"<사용자명>/my-bert-fine-tuned3\"\n",
        "tokenizer = AutoTokenizer.from_pretrained(model_name)\n",
        "model = AutoModelForSequenceClassification.from_pretrained(model_name)"
      ],
      "metadata": {
        "id": "I7zGkczfKwPu"
      },
      "execution_count": null,
      "outputs": []
    }
  ]
}